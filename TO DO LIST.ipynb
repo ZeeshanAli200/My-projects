{
 "cells": [
  {
   "cell_type": "code",
   "execution_count": 1,
   "metadata": {},
   "outputs": [],
   "source": [
    "todo=['breakfast','university','homework','gaming','sleep']\n",
    "new=[]"
   ]
  },
  {
   "cell_type": "code",
   "execution_count": 2,
   "metadata": {},
   "outputs": [
    {
     "name": "stdout",
     "output_type": "stream",
     "text": [
      "Enter your completed task:university\n",
      "Finihed tasks: ['university']\n",
      "Original List: ['breakfast', 'homework', 'gaming', 'sleep']\n"
     ]
    }
   ],
   "source": [
    "x=str(input(\"Enter your completed task:\"))\n",
    "if x in todo:\n",
    "    val=todo.index(x)\n",
    "    todo.pop(val)\n",
    "    new.append(x)\n",
    "    print(\"Finihed tasks:\",new)\n",
    "    print(\"Original List:\",todo)\n",
    "else:\n",
    "    print(\"**********Work Finished**********\")\n",
    "    "
   ]
  },
  {
   "cell_type": "code",
   "execution_count": null,
   "metadata": {},
   "outputs": [],
   "source": []
  }
 ],
 "metadata": {
  "kernelspec": {
   "display_name": "Python 3",
   "language": "python",
   "name": "python3"
  },
  "language_info": {
   "codemirror_mode": {
    "name": "ipython",
    "version": 3
   },
   "file_extension": ".py",
   "mimetype": "text/x-python",
   "name": "python",
   "nbconvert_exporter": "python",
   "pygments_lexer": "ipython3",
   "version": "3.7.3"
  }
 },
 "nbformat": 4,
 "nbformat_minor": 2
}
